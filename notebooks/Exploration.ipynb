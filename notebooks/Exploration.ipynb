{
 "cells": [
  {
   "cell_type": "code",
   "execution_count": 5,
   "metadata": {},
   "outputs": [],
   "source": [
    "import pandas as pd\n",
    "from pymongo import MongoClient\n",
    "import os\n",
    "from pathlib import Path"
   ]
  },
  {
   "cell_type": "code",
   "execution_count": 7,
   "metadata": {},
   "outputs": [],
   "source": [
    "\n",
    "script_dir = Path.cwd()\n",
    "project_root = script_dir.parent\n",
    "data_path = project_root / 'data' / 'healthcare_dataset.csv'\n",
    "\n",
    "data = pd.read_csv(data_path)\n"
   ]
  },
  {
   "cell_type": "code",
   "execution_count": 8,
   "metadata": {},
   "outputs": [
    {
     "name": "stdout",
     "output_type": "stream",
     "text": [
      "Ces lignes sont en double :\n",
      "                     Name  Age  Gender Blood Type Medical Condition  \\\n",
      "50023        Samuel joYCe   56    Male         O+         Arthritis   \n",
      "50040    KIMBErly vasqueZ   26    Male         A-           Obesity   \n",
      "50055      SCoTT tHOrNton   55  Female         B-           Obesity   \n",
      "50070         wiLliam LEe   27  Female         O+         Arthritis   \n",
      "50078  chRistOPheR NoRrIs   38    Male        AB-         Arthritis   \n",
      "...                   ...  ...     ...        ...               ...   \n",
      "55461      connOR coMPTon   63    Male         A+            Asthma   \n",
      "55462       alYSsA mIlLER   35  Female         A-          Diabetes   \n",
      "55464        ChRIs huGHeS   35  Female        AB-           Obesity   \n",
      "55484     keNNEtH alvarez   80    Male         O+            Cancer   \n",
      "55491       lInDA grIFfin   47  Female         O+           Obesity   \n",
      "\n",
      "      Date of Admission             Doctor                    Hospital  \\\n",
      "50023        2022-11-03     Krista Hartman              Thomas-Ballard   \n",
      "50040        2023-10-23   Jennifer Bennett                   Cowan Inc   \n",
      "50055        2021-04-08      Joshua Ingram                  Keller LLC   \n",
      "50070        2020-01-31  Lauren Montgomery               Winters-Simon   \n",
      "50078        2023-01-14       Denise Blair                 Inc Morales   \n",
      "...                 ...                ...                         ...   \n",
      "55461        2021-08-21     Jonathan Allen  and Willis Mullins, Bowers   \n",
      "55462        2022-06-30         Ryan Price           Shelton-Gallagher   \n",
      "55464        2024-02-28      Katelyn Perry                Lyons-Hansen   \n",
      "55484        2022-05-05      Andrew Conner               Sons Mayo and   \n",
      "55491        2020-06-21     Danielle Davis    and King Jordan Johnson,   \n",
      "\n",
      "      Insurance Provider  Billing Amount  Room Number Admission Type  \\\n",
      "50023   UnitedHealthcare    15654.830587          157         Urgent   \n",
      "50040   UnitedHealthcare    38142.109678          313         Urgent   \n",
      "50055           Medicare    30894.904511          455         Urgent   \n",
      "50070              Cigna    46229.434901          153       Elective   \n",
      "50078           Medicare     9072.127142          452      Emergency   \n",
      "...                  ...             ...          ...            ...   \n",
      "55461           Medicare     1936.702824          375      Emergency   \n",
      "55462   UnitedHealthcare     2210.460898          289       Elective   \n",
      "55464         Blue Cross    11889.154513          128      Emergency   \n",
      "55484              Cigna    45653.802310          114       Elective   \n",
      "55491              Aetna    15715.551079          310      Emergency   \n",
      "\n",
      "      Discharge Date   Medication  Test Results  \n",
      "50023     2022-11-22      Aspirin  Inconclusive  \n",
      "50040     2023-11-18   Penicillin      Abnormal  \n",
      "50055     2021-04-15      Aspirin      Abnormal  \n",
      "50070     2020-02-13      Lipitor        Normal  \n",
      "50078     2023-02-12   Penicillin        Normal  \n",
      "...              ...          ...           ...  \n",
      "55461     2021-09-16  Paracetamol        Normal  \n",
      "55462     2022-07-27   Penicillin        Normal  \n",
      "55464     2024-03-14  Paracetamol      Abnormal  \n",
      "55484     2022-05-17      Aspirin        Normal  \n",
      "55491     2020-06-25      Lipitor      Abnormal  \n",
      "\n",
      "[534 rows x 15 columns]\n"
     ]
    }
   ],
   "source": [
    "\n",
    "duplicates = data.duplicated()\n",
    "\n",
    "\n",
    "if duplicates.any():\n",
    "    print(\"Ces lignes sont en double :\")\n",
    "    print(data.loc[duplicates])\n"
   ]
  },
  {
   "cell_type": "code",
   "execution_count": 4,
   "metadata": {},
   "outputs": [
    {
     "name": "stdout",
     "output_type": "stream",
     "text": [
      "Les combinaisons suivantes (Name, Date_of_Admission) sont en double :\n",
      "                    Name Date of Admission\n",
      "50000      KRISTa GiBsoN        2022-05-05\n",
      "50001  BRookE mCcUlLough        2022-01-18\n",
      "50002    DaNiEL THoMPSon        2023-12-14\n",
      "50003      nichOLas hunT        2021-10-09\n",
      "50004   MElIssa mArTInEz        2022-01-05\n",
      "...                  ...               ...\n",
      "55495  eLIZABeTH jaCkSOn        2020-08-16\n",
      "55496         KYle pEREz        2020-01-23\n",
      "55497       HEATher WaNG        2020-07-13\n",
      "55498     JENniFER JOneS        2019-05-25\n",
      "55499       jAMES GARCiA        2024-04-02\n",
      "\n",
      "[5500 rows x 2 columns]\n"
     ]
    }
   ],
   "source": [
    "duplicates = data[['Name', 'Date of Admission']].duplicated()\n",
    "\n",
    "if duplicates.any():\n",
    "    print(\"Les combinaisons suivantes (Name, Date_of_Admission) sont en double :\")\n",
    "    print(data.loc[duplicates, ['Name', 'Date of Admission']])"
   ]
  },
  {
   "cell_type": "code",
   "execution_count": 5,
   "metadata": {},
   "outputs": [
    {
     "name": "stdout",
     "output_type": "stream",
     "text": [
      "Les combinaisons suivantes (Name) sont en double :\n",
      "                    Name\n",
      "22017         TInA white\n",
      "27042          LOrI coOK\n",
      "40470          aMy smiTh\n",
      "40524           ADAM OrR\n",
      "40666         PAUL SMith\n",
      "...                  ...\n",
      "55495  eLIZABeTH jaCkSOn\n",
      "55496         KYle pEREz\n",
      "55497       HEATher WaNG\n",
      "55498     JENniFER JOneS\n",
      "55499       jAMES GARCiA\n",
      "\n",
      "[5508 rows x 1 columns]\n"
     ]
    }
   ],
   "source": [
    "\n",
    "duplicates = data[['Name']].duplicated()\n",
    "\n",
    "\n",
    "if duplicates.any():\n",
    "    print(\"Les combinaisons suivantes (Name) sont en double :\")\n",
    "    print(data.loc[duplicates, ['Name']])"
   ]
  },
  {
   "cell_type": "code",
   "execution_count": 6,
   "metadata": {},
   "outputs": [
    {
     "name": "stdout",
     "output_type": "stream",
     "text": [
      "                   Name  Age  Gender Blood Type Medical Condition  \\\n",
      "54393       AARon smITh   81    Male         A-            Cancer   \n",
      "17083       AARon smITh   79    Male         A-            Cancer   \n",
      "54112      AAron ArCHER   49  Female         B-            Cancer   \n",
      "3040       AAron ArCHER   47  Female         B-            Cancer   \n",
      "52111    ABIGAiL wateRS   35  Female         O+            Asthma   \n",
      "...                 ...  ...     ...        ...               ...   \n",
      "53940    zacHary fLOrEs   63    Male        AB-            Cancer   \n",
      "15565     zachAry Brown   69  Female         A+           Obesity   \n",
      "50503     zachAry Brown   72  Female         A+           Obesity   \n",
      "50727  zacharY BauTista   46  Female        AB+            Cancer   \n",
      "1902   zacharY BauTista   43  Female        AB+            Cancer   \n",
      "\n",
      "      Date of Admission              Doctor                   Hospital  \\\n",
      "54393        2019-11-21         Gina Jacobs               Weber-Warren   \n",
      "17083        2019-11-21         Gina Jacobs               Weber-Warren   \n",
      "54112        2021-01-10  Cynthia Villanueva    Montes Case and Mendez,   \n",
      "3040         2021-01-10  Cynthia Villanueva    Montes Case and Mendez,   \n",
      "52111        2023-11-13        Sandra Boyer  Rogers Martin Prince, and   \n",
      "...                 ...                 ...                        ...   \n",
      "53940        2020-02-06       Zachary Hogan            Santos-Fletcher   \n",
      "15565        2023-10-13      Rebecca Martin                 PLC Garcia   \n",
      "50503        2023-10-13      Rebecca Martin                 PLC Garcia   \n",
      "50727        2020-08-21          Scott Bell                Rodgers Inc   \n",
      "1902         2020-08-21          Scott Bell                Rodgers Inc   \n",
      "\n",
      "      Insurance Provider  Billing Amount  Room Number Admission Type  \\\n",
      "54393           Medicare    21879.766348          155      Emergency   \n",
      "17083           Medicare    21879.766348          155      Emergency   \n",
      "54112           Medicare    10602.077185          108         Urgent   \n",
      "3040            Medicare    10602.077185          108         Urgent   \n",
      "52111   UnitedHealthcare     3121.196138          421       Elective   \n",
      "...                  ...             ...          ...            ...   \n",
      "53940         Blue Cross    20296.118846          163       Elective   \n",
      "15565   UnitedHealthcare    26421.875105          394      Emergency   \n",
      "50503   UnitedHealthcare    26421.875105          394      Emergency   \n",
      "50727           Medicare     9988.199830          336         Urgent   \n",
      "1902            Medicare     9988.199830          336         Urgent   \n",
      "\n",
      "      Discharge Date   Medication  Test Results  \n",
      "54393     2019-12-20    Ibuprofen  Inconclusive  \n",
      "17083     2019-12-20    Ibuprofen  Inconclusive  \n",
      "54112     2021-01-17  Paracetamol  Inconclusive  \n",
      "3040      2021-01-17  Paracetamol  Inconclusive  \n",
      "52111     2023-11-22      Aspirin  Inconclusive  \n",
      "...              ...          ...           ...  \n",
      "53940     2020-02-19   Penicillin  Inconclusive  \n",
      "15565     2023-11-10      Aspirin  Inconclusive  \n",
      "50503     2023-11-10      Aspirin  Inconclusive  \n",
      "50727     2020-08-25      Aspirin  Inconclusive  \n",
      "1902      2020-08-25      Aspirin  Inconclusive  \n",
      "\n",
      "[11000 rows x 15 columns]\n"
     ]
    }
   ],
   "source": [
    "duplicates = data[data.duplicated(subset=['Name', 'Date of Admission'], keep=False)]\n",
    "\n",
    "duplicates_sorted = duplicates.sort_values(by='Name')\n",
    "\n",
    "print(duplicates_sorted)\n"
   ]
  },
  {
   "cell_type": "code",
   "execution_count": 7,
   "metadata": {},
   "outputs": [
    {
     "name": "stdout",
     "output_type": "stream",
     "text": [
      "Empty DataFrame\n",
      "Columns: [Name, Age, Gender, Blood Type, Medical Condition, Date of Admission, Doctor, Hospital, Insurance Provider, Billing Amount, Room Number, Admission Type, Discharge Date, Medication, Test Results]\n",
      "Index: []\n"
     ]
    }
   ],
   "source": [
    "null_values = data[data['Name'].isna() | data['Date of Admission'].isna() | \n",
    "                   (data['Name'] == '') | (data['Date of Admission'] == '')]\n",
    "print(null_values)\n"
   ]
  },
  {
   "cell_type": "code",
   "execution_count": 8,
   "metadata": {},
   "outputs": [
    {
     "name": "stdout",
     "output_type": "stream",
     "text": [
      "Empty DataFrame\n",
      "Columns: [Name, Date of Admission]\n",
      "Index: []\n"
     ]
    }
   ],
   "source": [
    "# Extraire les lignes où 'Name' ou 'Date of Admission' sont vides ou NaN\n",
    "null_or_empty_values = data[data['Name'].isna() | (data['Name'] == '') | data['Date of Admission'].isna() | (data['Date of Admission'] == '')]\n",
    "\n",
    "# Afficher les résultats\n",
    "print(null_or_empty_values[['Name', 'Date of Admission']])\n"
   ]
  },
  {
   "cell_type": "code",
   "execution_count": 9,
   "metadata": {},
   "outputs": [],
   "source": [
    "data.columns = [col.strip().replace(\" \", \"_\") for col in data.columns] #retire espace pour underscore pour une bonne syntaxe\n",
    "data['Date_of_Admission'] = pd.to_datetime(data['Date_of_Admission'])\n",
    "data['Discharge_Date'] = pd.to_datetime(data['Discharge_Date'])"
   ]
  },
  {
   "cell_type": "code",
   "execution_count": 10,
   "metadata": {},
   "outputs": [
    {
     "data": {
      "text/html": [
       "<div>\n",
       "<style scoped>\n",
       "    .dataframe tbody tr th:only-of-type {\n",
       "        vertical-align: middle;\n",
       "    }\n",
       "\n",
       "    .dataframe tbody tr th {\n",
       "        vertical-align: top;\n",
       "    }\n",
       "\n",
       "    .dataframe thead th {\n",
       "        text-align: right;\n",
       "    }\n",
       "</style>\n",
       "<table border=\"1\" class=\"dataframe\">\n",
       "  <thead>\n",
       "    <tr style=\"text-align: right;\">\n",
       "      <th></th>\n",
       "      <th>Name</th>\n",
       "      <th>Age</th>\n",
       "      <th>Gender</th>\n",
       "      <th>Blood_Type</th>\n",
       "      <th>Medical_Condition</th>\n",
       "      <th>Date_of_Admission</th>\n",
       "      <th>Doctor</th>\n",
       "      <th>Hospital</th>\n",
       "      <th>Insurance_Provider</th>\n",
       "      <th>Billing_Amount</th>\n",
       "      <th>Room_Number</th>\n",
       "      <th>Admission_Type</th>\n",
       "      <th>Discharge_Date</th>\n",
       "      <th>Medication</th>\n",
       "      <th>Test_Results</th>\n",
       "    </tr>\n",
       "  </thead>\n",
       "  <tbody>\n",
       "    <tr>\n",
       "      <th>0</th>\n",
       "      <td>Bobby JacksOn</td>\n",
       "      <td>30</td>\n",
       "      <td>Male</td>\n",
       "      <td>B-</td>\n",
       "      <td>Cancer</td>\n",
       "      <td>2024-01-31</td>\n",
       "      <td>Matthew Smith</td>\n",
       "      <td>Sons and Miller</td>\n",
       "      <td>Blue Cross</td>\n",
       "      <td>18856.281306</td>\n",
       "      <td>328</td>\n",
       "      <td>Urgent</td>\n",
       "      <td>2024-02-02</td>\n",
       "      <td>Paracetamol</td>\n",
       "      <td>Normal</td>\n",
       "    </tr>\n",
       "    <tr>\n",
       "      <th>1</th>\n",
       "      <td>LesLie TErRy</td>\n",
       "      <td>62</td>\n",
       "      <td>Male</td>\n",
       "      <td>A+</td>\n",
       "      <td>Obesity</td>\n",
       "      <td>2019-08-20</td>\n",
       "      <td>Samantha Davies</td>\n",
       "      <td>Kim Inc</td>\n",
       "      <td>Medicare</td>\n",
       "      <td>33643.327287</td>\n",
       "      <td>265</td>\n",
       "      <td>Emergency</td>\n",
       "      <td>2019-08-26</td>\n",
       "      <td>Ibuprofen</td>\n",
       "      <td>Inconclusive</td>\n",
       "    </tr>\n",
       "    <tr>\n",
       "      <th>2</th>\n",
       "      <td>DaNnY sMitH</td>\n",
       "      <td>76</td>\n",
       "      <td>Female</td>\n",
       "      <td>A-</td>\n",
       "      <td>Obesity</td>\n",
       "      <td>2022-09-22</td>\n",
       "      <td>Tiffany Mitchell</td>\n",
       "      <td>Cook PLC</td>\n",
       "      <td>Aetna</td>\n",
       "      <td>27955.096079</td>\n",
       "      <td>205</td>\n",
       "      <td>Emergency</td>\n",
       "      <td>2022-10-07</td>\n",
       "      <td>Aspirin</td>\n",
       "      <td>Normal</td>\n",
       "    </tr>\n",
       "    <tr>\n",
       "      <th>3</th>\n",
       "      <td>andrEw waTtS</td>\n",
       "      <td>28</td>\n",
       "      <td>Female</td>\n",
       "      <td>O+</td>\n",
       "      <td>Diabetes</td>\n",
       "      <td>2020-11-18</td>\n",
       "      <td>Kevin Wells</td>\n",
       "      <td>Hernandez Rogers and Vang,</td>\n",
       "      <td>Medicare</td>\n",
       "      <td>37909.782410</td>\n",
       "      <td>450</td>\n",
       "      <td>Elective</td>\n",
       "      <td>2020-12-18</td>\n",
       "      <td>Ibuprofen</td>\n",
       "      <td>Abnormal</td>\n",
       "    </tr>\n",
       "    <tr>\n",
       "      <th>4</th>\n",
       "      <td>adrIENNE bEll</td>\n",
       "      <td>43</td>\n",
       "      <td>Female</td>\n",
       "      <td>AB+</td>\n",
       "      <td>Cancer</td>\n",
       "      <td>2022-09-19</td>\n",
       "      <td>Kathleen Hanna</td>\n",
       "      <td>White-White</td>\n",
       "      <td>Aetna</td>\n",
       "      <td>14238.317814</td>\n",
       "      <td>458</td>\n",
       "      <td>Urgent</td>\n",
       "      <td>2022-10-09</td>\n",
       "      <td>Penicillin</td>\n",
       "      <td>Abnormal</td>\n",
       "    </tr>\n",
       "  </tbody>\n",
       "</table>\n",
       "</div>"
      ],
      "text/plain": [
       "            Name  Age  Gender Blood_Type Medical_Condition Date_of_Admission  \\\n",
       "0  Bobby JacksOn   30    Male         B-            Cancer        2024-01-31   \n",
       "1   LesLie TErRy   62    Male         A+           Obesity        2019-08-20   \n",
       "2    DaNnY sMitH   76  Female         A-           Obesity        2022-09-22   \n",
       "3   andrEw waTtS   28  Female         O+          Diabetes        2020-11-18   \n",
       "4  adrIENNE bEll   43  Female        AB+            Cancer        2022-09-19   \n",
       "\n",
       "             Doctor                    Hospital Insurance_Provider  \\\n",
       "0     Matthew Smith             Sons and Miller         Blue Cross   \n",
       "1   Samantha Davies                     Kim Inc           Medicare   \n",
       "2  Tiffany Mitchell                    Cook PLC              Aetna   \n",
       "3       Kevin Wells  Hernandez Rogers and Vang,           Medicare   \n",
       "4    Kathleen Hanna                 White-White              Aetna   \n",
       "\n",
       "   Billing_Amount  Room_Number Admission_Type Discharge_Date   Medication  \\\n",
       "0    18856.281306          328         Urgent     2024-02-02  Paracetamol   \n",
       "1    33643.327287          265      Emergency     2019-08-26    Ibuprofen   \n",
       "2    27955.096079          205      Emergency     2022-10-07      Aspirin   \n",
       "3    37909.782410          450       Elective     2020-12-18    Ibuprofen   \n",
       "4    14238.317814          458         Urgent     2022-10-09   Penicillin   \n",
       "\n",
       "   Test_Results  \n",
       "0        Normal  \n",
       "1  Inconclusive  \n",
       "2        Normal  \n",
       "3      Abnormal  \n",
       "4      Abnormal  "
      ]
     },
     "execution_count": 10,
     "metadata": {},
     "output_type": "execute_result"
    }
   ],
   "source": [
    "data.head()"
   ]
  },
  {
   "cell_type": "code",
   "execution_count": 11,
   "metadata": {},
   "outputs": [
    {
     "name": "stdout",
     "output_type": "stream",
     "text": [
      "<class 'pandas.core.frame.DataFrame'>\n",
      "RangeIndex: 55500 entries, 0 to 55499\n",
      "Data columns (total 15 columns):\n",
      " #   Column              Non-Null Count  Dtype         \n",
      "---  ------              --------------  -----         \n",
      " 0   Name                55500 non-null  object        \n",
      " 1   Age                 55500 non-null  int64         \n",
      " 2   Gender              55500 non-null  object        \n",
      " 3   Blood_Type          55500 non-null  object        \n",
      " 4   Medical_Condition   55500 non-null  object        \n",
      " 5   Date_of_Admission   55500 non-null  datetime64[ns]\n",
      " 6   Doctor              55500 non-null  object        \n",
      " 7   Hospital            55500 non-null  object        \n",
      " 8   Insurance_Provider  55500 non-null  object        \n",
      " 9   Billing_Amount      55500 non-null  float64       \n",
      " 10  Room_Number         55500 non-null  int64         \n",
      " 11  Admission_Type      55500 non-null  object        \n",
      " 12  Discharge_Date      55500 non-null  datetime64[ns]\n",
      " 13  Medication          55500 non-null  object        \n",
      " 14  Test_Results        55500 non-null  object        \n",
      "dtypes: datetime64[ns](2), float64(1), int64(2), object(10)\n",
      "memory usage: 6.4+ MB\n"
     ]
    }
   ],
   "source": [
    "data.info()"
   ]
  }
 ],
 "metadata": {
  "kernelspec": {
   "display_name": "Python 3",
   "language": "python",
   "name": "python3"
  },
  "language_info": {
   "codemirror_mode": {
    "name": "ipython",
    "version": 3
   },
   "file_extension": ".py",
   "mimetype": "text/x-python",
   "name": "python",
   "nbconvert_exporter": "python",
   "pygments_lexer": "ipython3",
   "version": "3.12.8"
  }
 },
 "nbformat": 4,
 "nbformat_minor": 2
}
